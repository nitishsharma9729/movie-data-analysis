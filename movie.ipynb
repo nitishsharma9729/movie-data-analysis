{
  "cells": [
    {
      "cell_type": "code",
      "source": [
        "import pandas as pd\n",
        "import numpy as np\n",
        "df=pd.read_csv('movies.csv')\n",
        "df.head()\n",
        "df"
      ],
      "metadata": {
        "id": "ao_ALG3bYMEm",
        "outputId": "1db18094-f8cd-44a2-956a-d116be149bff",
        "colab": {
          "base_uri": "https://localhost:8080/",
          "height": 964
        }
      },
      "execution_count": 12,
      "outputs": [
        {
          "output_type": "execute_result",
          "data": {
            "text/plain": [
              "                                                name rating      genre  year  \\\n",
              "0                                        The Shining      R      Drama  1980   \n",
              "1                                    The Blue Lagoon      R  Adventure  1980   \n",
              "2     Star Wars: Episode V - The Empire Strikes Back     PG     Action  1980   \n",
              "3                                          Airplane!     PG     Comedy  1980   \n",
              "4                                         Caddyshack      R     Comedy  1980   \n",
              "...                                              ...    ...        ...   ...   \n",
              "7663                                    More to Life    NaN      Drama  2020   \n",
              "7664                                     Dream Round    NaN     Comedy  2020   \n",
              "7665                                   Saving Mbango    NaN      Drama  2020   \n",
              "7666                                    It's Just Us    NaN      Drama  2020   \n",
              "7667                                       Tee em el    NaN     Horror  2020   \n",
              "\n",
              "                              released  score      votes         director  \\\n",
              "0        June 13, 1980 (United States)    8.4   927000.0  Stanley Kubrick   \n",
              "1         July 2, 1980 (United States)    5.8    65000.0   Randal Kleiser   \n",
              "2        June 20, 1980 (United States)    8.7  1200000.0   Irvin Kershner   \n",
              "3         July 2, 1980 (United States)    7.7   221000.0     Jim Abrahams   \n",
              "4        July 25, 1980 (United States)    7.3   108000.0     Harold Ramis   \n",
              "...                                ...    ...        ...              ...   \n",
              "7663  October 23, 2020 (United States)    3.1       18.0    Joseph Ebanks   \n",
              "7664  February 7, 2020 (United States)    4.7       36.0     Dusty Dukatz   \n",
              "7665         April 27, 2020 (Cameroon)    5.7       29.0     Nkanya Nkwai   \n",
              "7666   October 1, 2020 (United States)    NaN        NaN    James Randall   \n",
              "7667   August 19, 2020 (United States)    5.7        7.0     Pereko Mosia   \n",
              "\n",
              "                       writer              star         country      budget  \\\n",
              "0                Stephen King    Jack Nicholson  United Kingdom  19000000.0   \n",
              "1     Henry De Vere Stacpoole    Brooke Shields   United States   4500000.0   \n",
              "2              Leigh Brackett       Mark Hamill   United States  18000000.0   \n",
              "3                Jim Abrahams       Robert Hays   United States   3500000.0   \n",
              "4          Brian Doyle-Murray       Chevy Chase   United States   6000000.0   \n",
              "...                       ...               ...             ...         ...   \n",
              "7663            Joseph Ebanks      Shannon Bond   United States      7000.0   \n",
              "7664              Lisa Huston  Michael Saquella   United States         NaN   \n",
              "7665             Lynno Lovert      Onyama Laura   United States     58750.0   \n",
              "7666            James Randall     Christina Roz   United States     15000.0   \n",
              "7667             Pereko Mosia  Siyabonga Mabaso    South Africa         NaN   \n",
              "\n",
              "            gross                    company  runtime  \n",
              "0      46998772.0               Warner Bros.    146.0  \n",
              "1      58853106.0          Columbia Pictures    104.0  \n",
              "2     538375067.0                  Lucasfilm    124.0  \n",
              "3      83453539.0         Paramount Pictures     88.0  \n",
              "4      39846344.0             Orion Pictures     98.0  \n",
              "...           ...                        ...      ...  \n",
              "7663          NaN                        NaN     90.0  \n",
              "7664          NaN  Cactus Blue Entertainment     90.0  \n",
              "7665          NaN           Embi Productions      NaN  \n",
              "7666          NaN                        NaN    120.0  \n",
              "7667          NaN                PK 65 Films    102.0  \n",
              "\n",
              "[7668 rows x 15 columns]"
            ],
            "text/html": [
              "\n",
              "  <div id=\"df-a2196659-7d98-467c-9dbc-219a9ee3e2d1\" class=\"colab-df-container\">\n",
              "    <div>\n",
              "<style scoped>\n",
              "    .dataframe tbody tr th:only-of-type {\n",
              "        vertical-align: middle;\n",
              "    }\n",
              "\n",
              "    .dataframe tbody tr th {\n",
              "        vertical-align: top;\n",
              "    }\n",
              "\n",
              "    .dataframe thead th {\n",
              "        text-align: right;\n",
              "    }\n",
              "</style>\n",
              "<table border=\"1\" class=\"dataframe\">\n",
              "  <thead>\n",
              "    <tr style=\"text-align: right;\">\n",
              "      <th></th>\n",
              "      <th>name</th>\n",
              "      <th>rating</th>\n",
              "      <th>genre</th>\n",
              "      <th>year</th>\n",
              "      <th>released</th>\n",
              "      <th>score</th>\n",
              "      <th>votes</th>\n",
              "      <th>director</th>\n",
              "      <th>writer</th>\n",
              "      <th>star</th>\n",
              "      <th>country</th>\n",
              "      <th>budget</th>\n",
              "      <th>gross</th>\n",
              "      <th>company</th>\n",
              "      <th>runtime</th>\n",
              "    </tr>\n",
              "  </thead>\n",
              "  <tbody>\n",
              "    <tr>\n",
              "      <th>0</th>\n",
              "      <td>The Shining</td>\n",
              "      <td>R</td>\n",
              "      <td>Drama</td>\n",
              "      <td>1980</td>\n",
              "      <td>June 13, 1980 (United States)</td>\n",
              "      <td>8.4</td>\n",
              "      <td>927000.0</td>\n",
              "      <td>Stanley Kubrick</td>\n",
              "      <td>Stephen King</td>\n",
              "      <td>Jack Nicholson</td>\n",
              "      <td>United Kingdom</td>\n",
              "      <td>19000000.0</td>\n",
              "      <td>46998772.0</td>\n",
              "      <td>Warner Bros.</td>\n",
              "      <td>146.0</td>\n",
              "    </tr>\n",
              "    <tr>\n",
              "      <th>1</th>\n",
              "      <td>The Blue Lagoon</td>\n",
              "      <td>R</td>\n",
              "      <td>Adventure</td>\n",
              "      <td>1980</td>\n",
              "      <td>July 2, 1980 (United States)</td>\n",
              "      <td>5.8</td>\n",
              "      <td>65000.0</td>\n",
              "      <td>Randal Kleiser</td>\n",
              "      <td>Henry De Vere Stacpoole</td>\n",
              "      <td>Brooke Shields</td>\n",
              "      <td>United States</td>\n",
              "      <td>4500000.0</td>\n",
              "      <td>58853106.0</td>\n",
              "      <td>Columbia Pictures</td>\n",
              "      <td>104.0</td>\n",
              "    </tr>\n",
              "    <tr>\n",
              "      <th>2</th>\n",
              "      <td>Star Wars: Episode V - The Empire Strikes Back</td>\n",
              "      <td>PG</td>\n",
              "      <td>Action</td>\n",
              "      <td>1980</td>\n",
              "      <td>June 20, 1980 (United States)</td>\n",
              "      <td>8.7</td>\n",
              "      <td>1200000.0</td>\n",
              "      <td>Irvin Kershner</td>\n",
              "      <td>Leigh Brackett</td>\n",
              "      <td>Mark Hamill</td>\n",
              "      <td>United States</td>\n",
              "      <td>18000000.0</td>\n",
              "      <td>538375067.0</td>\n",
              "      <td>Lucasfilm</td>\n",
              "      <td>124.0</td>\n",
              "    </tr>\n",
              "    <tr>\n",
              "      <th>3</th>\n",
              "      <td>Airplane!</td>\n",
              "      <td>PG</td>\n",
              "      <td>Comedy</td>\n",
              "      <td>1980</td>\n",
              "      <td>July 2, 1980 (United States)</td>\n",
              "      <td>7.7</td>\n",
              "      <td>221000.0</td>\n",
              "      <td>Jim Abrahams</td>\n",
              "      <td>Jim Abrahams</td>\n",
              "      <td>Robert Hays</td>\n",
              "      <td>United States</td>\n",
              "      <td>3500000.0</td>\n",
              "      <td>83453539.0</td>\n",
              "      <td>Paramount Pictures</td>\n",
              "      <td>88.0</td>\n",
              "    </tr>\n",
              "    <tr>\n",
              "      <th>4</th>\n",
              "      <td>Caddyshack</td>\n",
              "      <td>R</td>\n",
              "      <td>Comedy</td>\n",
              "      <td>1980</td>\n",
              "      <td>July 25, 1980 (United States)</td>\n",
              "      <td>7.3</td>\n",
              "      <td>108000.0</td>\n",
              "      <td>Harold Ramis</td>\n",
              "      <td>Brian Doyle-Murray</td>\n",
              "      <td>Chevy Chase</td>\n",
              "      <td>United States</td>\n",
              "      <td>6000000.0</td>\n",
              "      <td>39846344.0</td>\n",
              "      <td>Orion Pictures</td>\n",
              "      <td>98.0</td>\n",
              "    </tr>\n",
              "    <tr>\n",
              "      <th>...</th>\n",
              "      <td>...</td>\n",
              "      <td>...</td>\n",
              "      <td>...</td>\n",
              "      <td>...</td>\n",
              "      <td>...</td>\n",
              "      <td>...</td>\n",
              "      <td>...</td>\n",
              "      <td>...</td>\n",
              "      <td>...</td>\n",
              "      <td>...</td>\n",
              "      <td>...</td>\n",
              "      <td>...</td>\n",
              "      <td>...</td>\n",
              "      <td>...</td>\n",
              "      <td>...</td>\n",
              "    </tr>\n",
              "    <tr>\n",
              "      <th>7663</th>\n",
              "      <td>More to Life</td>\n",
              "      <td>NaN</td>\n",
              "      <td>Drama</td>\n",
              "      <td>2020</td>\n",
              "      <td>October 23, 2020 (United States)</td>\n",
              "      <td>3.1</td>\n",
              "      <td>18.0</td>\n",
              "      <td>Joseph Ebanks</td>\n",
              "      <td>Joseph Ebanks</td>\n",
              "      <td>Shannon Bond</td>\n",
              "      <td>United States</td>\n",
              "      <td>7000.0</td>\n",
              "      <td>NaN</td>\n",
              "      <td>NaN</td>\n",
              "      <td>90.0</td>\n",
              "    </tr>\n",
              "    <tr>\n",
              "      <th>7664</th>\n",
              "      <td>Dream Round</td>\n",
              "      <td>NaN</td>\n",
              "      <td>Comedy</td>\n",
              "      <td>2020</td>\n",
              "      <td>February 7, 2020 (United States)</td>\n",
              "      <td>4.7</td>\n",
              "      <td>36.0</td>\n",
              "      <td>Dusty Dukatz</td>\n",
              "      <td>Lisa Huston</td>\n",
              "      <td>Michael Saquella</td>\n",
              "      <td>United States</td>\n",
              "      <td>NaN</td>\n",
              "      <td>NaN</td>\n",
              "      <td>Cactus Blue Entertainment</td>\n",
              "      <td>90.0</td>\n",
              "    </tr>\n",
              "    <tr>\n",
              "      <th>7665</th>\n",
              "      <td>Saving Mbango</td>\n",
              "      <td>NaN</td>\n",
              "      <td>Drama</td>\n",
              "      <td>2020</td>\n",
              "      <td>April 27, 2020 (Cameroon)</td>\n",
              "      <td>5.7</td>\n",
              "      <td>29.0</td>\n",
              "      <td>Nkanya Nkwai</td>\n",
              "      <td>Lynno Lovert</td>\n",
              "      <td>Onyama Laura</td>\n",
              "      <td>United States</td>\n",
              "      <td>58750.0</td>\n",
              "      <td>NaN</td>\n",
              "      <td>Embi Productions</td>\n",
              "      <td>NaN</td>\n",
              "    </tr>\n",
              "    <tr>\n",
              "      <th>7666</th>\n",
              "      <td>It's Just Us</td>\n",
              "      <td>NaN</td>\n",
              "      <td>Drama</td>\n",
              "      <td>2020</td>\n",
              "      <td>October 1, 2020 (United States)</td>\n",
              "      <td>NaN</td>\n",
              "      <td>NaN</td>\n",
              "      <td>James Randall</td>\n",
              "      <td>James Randall</td>\n",
              "      <td>Christina Roz</td>\n",
              "      <td>United States</td>\n",
              "      <td>15000.0</td>\n",
              "      <td>NaN</td>\n",
              "      <td>NaN</td>\n",
              "      <td>120.0</td>\n",
              "    </tr>\n",
              "    <tr>\n",
              "      <th>7667</th>\n",
              "      <td>Tee em el</td>\n",
              "      <td>NaN</td>\n",
              "      <td>Horror</td>\n",
              "      <td>2020</td>\n",
              "      <td>August 19, 2020 (United States)</td>\n",
              "      <td>5.7</td>\n",
              "      <td>7.0</td>\n",
              "      <td>Pereko Mosia</td>\n",
              "      <td>Pereko Mosia</td>\n",
              "      <td>Siyabonga Mabaso</td>\n",
              "      <td>South Africa</td>\n",
              "      <td>NaN</td>\n",
              "      <td>NaN</td>\n",
              "      <td>PK 65 Films</td>\n",
              "      <td>102.0</td>\n",
              "    </tr>\n",
              "  </tbody>\n",
              "</table>\n",
              "<p>7668 rows × 15 columns</p>\n",
              "</div>\n",
              "    <div class=\"colab-df-buttons\">\n",
              "\n",
              "  <div class=\"colab-df-container\">\n",
              "    <button class=\"colab-df-convert\" onclick=\"convertToInteractive('df-a2196659-7d98-467c-9dbc-219a9ee3e2d1')\"\n",
              "            title=\"Convert this dataframe to an interactive table.\"\n",
              "            style=\"display:none;\">\n",
              "\n",
              "  <svg xmlns=\"http://www.w3.org/2000/svg\" height=\"24px\" viewBox=\"0 -960 960 960\">\n",
              "    <path d=\"M120-120v-720h720v720H120Zm60-500h600v-160H180v160Zm220 220h160v-160H400v160Zm0 220h160v-160H400v160ZM180-400h160v-160H180v160Zm440 0h160v-160H620v160ZM180-180h160v-160H180v160Zm440 0h160v-160H620v160Z\"/>\n",
              "  </svg>\n",
              "    </button>\n",
              "\n",
              "  <style>\n",
              "    .colab-df-container {\n",
              "      display:flex;\n",
              "      gap: 12px;\n",
              "    }\n",
              "\n",
              "    .colab-df-convert {\n",
              "      background-color: #E8F0FE;\n",
              "      border: none;\n",
              "      border-radius: 50%;\n",
              "      cursor: pointer;\n",
              "      display: none;\n",
              "      fill: #1967D2;\n",
              "      height: 32px;\n",
              "      padding: 0 0 0 0;\n",
              "      width: 32px;\n",
              "    }\n",
              "\n",
              "    .colab-df-convert:hover {\n",
              "      background-color: #E2EBFA;\n",
              "      box-shadow: 0px 1px 2px rgba(60, 64, 67, 0.3), 0px 1px 3px 1px rgba(60, 64, 67, 0.15);\n",
              "      fill: #174EA6;\n",
              "    }\n",
              "\n",
              "    .colab-df-buttons div {\n",
              "      margin-bottom: 4px;\n",
              "    }\n",
              "\n",
              "    [theme=dark] .colab-df-convert {\n",
              "      background-color: #3B4455;\n",
              "      fill: #D2E3FC;\n",
              "    }\n",
              "\n",
              "    [theme=dark] .colab-df-convert:hover {\n",
              "      background-color: #434B5C;\n",
              "      box-shadow: 0px 1px 3px 1px rgba(0, 0, 0, 0.15);\n",
              "      filter: drop-shadow(0px 1px 2px rgba(0, 0, 0, 0.3));\n",
              "      fill: #FFFFFF;\n",
              "    }\n",
              "  </style>\n",
              "\n",
              "    <script>\n",
              "      const buttonEl =\n",
              "        document.querySelector('#df-a2196659-7d98-467c-9dbc-219a9ee3e2d1 button.colab-df-convert');\n",
              "      buttonEl.style.display =\n",
              "        google.colab.kernel.accessAllowed ? 'block' : 'none';\n",
              "\n",
              "      async function convertToInteractive(key) {\n",
              "        const element = document.querySelector('#df-a2196659-7d98-467c-9dbc-219a9ee3e2d1');\n",
              "        const dataTable =\n",
              "          await google.colab.kernel.invokeFunction('convertToInteractive',\n",
              "                                                    [key], {});\n",
              "        if (!dataTable) return;\n",
              "\n",
              "        const docLinkHtml = 'Like what you see? Visit the ' +\n",
              "          '<a target=\"_blank\" href=https://colab.research.google.com/notebooks/data_table.ipynb>data table notebook</a>'\n",
              "          + ' to learn more about interactive tables.';\n",
              "        element.innerHTML = '';\n",
              "        dataTable['output_type'] = 'display_data';\n",
              "        await google.colab.output.renderOutput(dataTable, element);\n",
              "        const docLink = document.createElement('div');\n",
              "        docLink.innerHTML = docLinkHtml;\n",
              "        element.appendChild(docLink);\n",
              "      }\n",
              "    </script>\n",
              "  </div>\n",
              "\n",
              "\n",
              "<div id=\"df-2855f357-e7e0-4538-9bc5-011be8a19c86\">\n",
              "  <button class=\"colab-df-quickchart\" onclick=\"quickchart('df-2855f357-e7e0-4538-9bc5-011be8a19c86')\"\n",
              "            title=\"Suggest charts\"\n",
              "            style=\"display:none;\">\n",
              "\n",
              "<svg xmlns=\"http://www.w3.org/2000/svg\" height=\"24px\"viewBox=\"0 0 24 24\"\n",
              "     width=\"24px\">\n",
              "    <g>\n",
              "        <path d=\"M19 3H5c-1.1 0-2 .9-2 2v14c0 1.1.9 2 2 2h14c1.1 0 2-.9 2-2V5c0-1.1-.9-2-2-2zM9 17H7v-7h2v7zm4 0h-2V7h2v10zm4 0h-2v-4h2v4z\"/>\n",
              "    </g>\n",
              "</svg>\n",
              "  </button>\n",
              "\n",
              "<style>\n",
              "  .colab-df-quickchart {\n",
              "      --bg-color: #E8F0FE;\n",
              "      --fill-color: #1967D2;\n",
              "      --hover-bg-color: #E2EBFA;\n",
              "      --hover-fill-color: #174EA6;\n",
              "      --disabled-fill-color: #AAA;\n",
              "      --disabled-bg-color: #DDD;\n",
              "  }\n",
              "\n",
              "  [theme=dark] .colab-df-quickchart {\n",
              "      --bg-color: #3B4455;\n",
              "      --fill-color: #D2E3FC;\n",
              "      --hover-bg-color: #434B5C;\n",
              "      --hover-fill-color: #FFFFFF;\n",
              "      --disabled-bg-color: #3B4455;\n",
              "      --disabled-fill-color: #666;\n",
              "  }\n",
              "\n",
              "  .colab-df-quickchart {\n",
              "    background-color: var(--bg-color);\n",
              "    border: none;\n",
              "    border-radius: 50%;\n",
              "    cursor: pointer;\n",
              "    display: none;\n",
              "    fill: var(--fill-color);\n",
              "    height: 32px;\n",
              "    padding: 0;\n",
              "    width: 32px;\n",
              "  }\n",
              "\n",
              "  .colab-df-quickchart:hover {\n",
              "    background-color: var(--hover-bg-color);\n",
              "    box-shadow: 0 1px 2px rgba(60, 64, 67, 0.3), 0 1px 3px 1px rgba(60, 64, 67, 0.15);\n",
              "    fill: var(--button-hover-fill-color);\n",
              "  }\n",
              "\n",
              "  .colab-df-quickchart-complete:disabled,\n",
              "  .colab-df-quickchart-complete:disabled:hover {\n",
              "    background-color: var(--disabled-bg-color);\n",
              "    fill: var(--disabled-fill-color);\n",
              "    box-shadow: none;\n",
              "  }\n",
              "\n",
              "  .colab-df-spinner {\n",
              "    border: 2px solid var(--fill-color);\n",
              "    border-color: transparent;\n",
              "    border-bottom-color: var(--fill-color);\n",
              "    animation:\n",
              "      spin 1s steps(1) infinite;\n",
              "  }\n",
              "\n",
              "  @keyframes spin {\n",
              "    0% {\n",
              "      border-color: transparent;\n",
              "      border-bottom-color: var(--fill-color);\n",
              "      border-left-color: var(--fill-color);\n",
              "    }\n",
              "    20% {\n",
              "      border-color: transparent;\n",
              "      border-left-color: var(--fill-color);\n",
              "      border-top-color: var(--fill-color);\n",
              "    }\n",
              "    30% {\n",
              "      border-color: transparent;\n",
              "      border-left-color: var(--fill-color);\n",
              "      border-top-color: var(--fill-color);\n",
              "      border-right-color: var(--fill-color);\n",
              "    }\n",
              "    40% {\n",
              "      border-color: transparent;\n",
              "      border-right-color: var(--fill-color);\n",
              "      border-top-color: var(--fill-color);\n",
              "    }\n",
              "    60% {\n",
              "      border-color: transparent;\n",
              "      border-right-color: var(--fill-color);\n",
              "    }\n",
              "    80% {\n",
              "      border-color: transparent;\n",
              "      border-right-color: var(--fill-color);\n",
              "      border-bottom-color: var(--fill-color);\n",
              "    }\n",
              "    90% {\n",
              "      border-color: transparent;\n",
              "      border-bottom-color: var(--fill-color);\n",
              "    }\n",
              "  }\n",
              "</style>\n",
              "\n",
              "  <script>\n",
              "    async function quickchart(key) {\n",
              "      const quickchartButtonEl =\n",
              "        document.querySelector('#' + key + ' button');\n",
              "      quickchartButtonEl.disabled = true;  // To prevent multiple clicks.\n",
              "      quickchartButtonEl.classList.add('colab-df-spinner');\n",
              "      try {\n",
              "        const charts = await google.colab.kernel.invokeFunction(\n",
              "            'suggestCharts', [key], {});\n",
              "      } catch (error) {\n",
              "        console.error('Error during call to suggestCharts:', error);\n",
              "      }\n",
              "      quickchartButtonEl.classList.remove('colab-df-spinner');\n",
              "      quickchartButtonEl.classList.add('colab-df-quickchart-complete');\n",
              "    }\n",
              "    (() => {\n",
              "      let quickchartButtonEl =\n",
              "        document.querySelector('#df-2855f357-e7e0-4538-9bc5-011be8a19c86 button');\n",
              "      quickchartButtonEl.style.display =\n",
              "        google.colab.kernel.accessAllowed ? 'block' : 'none';\n",
              "    })();\n",
              "  </script>\n",
              "</div>\n",
              "\n",
              "  <div id=\"id_897f66b5-0deb-4bb0-ba91-35784154eeee\">\n",
              "    <style>\n",
              "      .colab-df-generate {\n",
              "        background-color: #E8F0FE;\n",
              "        border: none;\n",
              "        border-radius: 50%;\n",
              "        cursor: pointer;\n",
              "        display: none;\n",
              "        fill: #1967D2;\n",
              "        height: 32px;\n",
              "        padding: 0 0 0 0;\n",
              "        width: 32px;\n",
              "      }\n",
              "\n",
              "      .colab-df-generate:hover {\n",
              "        background-color: #E2EBFA;\n",
              "        box-shadow: 0px 1px 2px rgba(60, 64, 67, 0.3), 0px 1px 3px 1px rgba(60, 64, 67, 0.15);\n",
              "        fill: #174EA6;\n",
              "      }\n",
              "\n",
              "      [theme=dark] .colab-df-generate {\n",
              "        background-color: #3B4455;\n",
              "        fill: #D2E3FC;\n",
              "      }\n",
              "\n",
              "      [theme=dark] .colab-df-generate:hover {\n",
              "        background-color: #434B5C;\n",
              "        box-shadow: 0px 1px 3px 1px rgba(0, 0, 0, 0.15);\n",
              "        filter: drop-shadow(0px 1px 2px rgba(0, 0, 0, 0.3));\n",
              "        fill: #FFFFFF;\n",
              "      }\n",
              "    </style>\n",
              "    <button class=\"colab-df-generate\" onclick=\"generateWithVariable('df')\"\n",
              "            title=\"Generate code using this dataframe.\"\n",
              "            style=\"display:none;\">\n",
              "\n",
              "  <svg xmlns=\"http://www.w3.org/2000/svg\" height=\"24px\"viewBox=\"0 0 24 24\"\n",
              "       width=\"24px\">\n",
              "    <path d=\"M7,19H8.4L18.45,9,17,7.55,7,17.6ZM5,21V16.75L18.45,3.32a2,2,0,0,1,2.83,0l1.4,1.43a1.91,1.91,0,0,1,.58,1.4,1.91,1.91,0,0,1-.58,1.4L9.25,21ZM18.45,9,17,7.55Zm-12,3A5.31,5.31,0,0,0,4.9,8.1,5.31,5.31,0,0,0,1,6.5,5.31,5.31,0,0,0,4.9,4.9,5.31,5.31,0,0,0,6.5,1,5.31,5.31,0,0,0,8.1,4.9,5.31,5.31,0,0,0,12,6.5,5.46,5.46,0,0,0,6.5,12Z\"/>\n",
              "  </svg>\n",
              "    </button>\n",
              "    <script>\n",
              "      (() => {\n",
              "      const buttonEl =\n",
              "        document.querySelector('#id_897f66b5-0deb-4bb0-ba91-35784154eeee button.colab-df-generate');\n",
              "      buttonEl.style.display =\n",
              "        google.colab.kernel.accessAllowed ? 'block' : 'none';\n",
              "\n",
              "      buttonEl.onclick = () => {\n",
              "        google.colab.notebook.generateWithVariable('df');\n",
              "      }\n",
              "      })();\n",
              "    </script>\n",
              "  </div>\n",
              "\n",
              "    </div>\n",
              "  </div>\n"
            ],
            "application/vnd.google.colaboratory.intrinsic+json": {
              "type": "dataframe",
              "variable_name": "df",
              "summary": "{\n  \"name\": \"df\",\n  \"rows\": 7668,\n  \"fields\": [\n    {\n      \"column\": \"name\",\n      \"properties\": {\n        \"dtype\": \"string\",\n        \"num_unique_values\": 7512,\n        \"samples\": [\n          \"Blade: Trinity\",\n          \"The Book of Eli\",\n          \"Broken Flowers\"\n        ],\n        \"semantic_type\": \"\",\n        \"description\": \"\"\n      }\n    },\n    {\n      \"column\": \"rating\",\n      \"properties\": {\n        \"dtype\": \"category\",\n        \"num_unique_values\": 12,\n        \"samples\": [\n          \"TV-MA\",\n          \"X\",\n          \"R\"\n        ],\n        \"semantic_type\": \"\",\n        \"description\": \"\"\n      }\n    },\n    {\n      \"column\": \"genre\",\n      \"properties\": {\n        \"dtype\": \"category\",\n        \"num_unique_values\": 19,\n        \"samples\": [\n          \"Drama\",\n          \"Biography\",\n          \"Romance\"\n        ],\n        \"semantic_type\": \"\",\n        \"description\": \"\"\n      }\n    },\n    {\n      \"column\": \"year\",\n      \"properties\": {\n        \"dtype\": \"number\",\n        \"std\": 11,\n        \"min\": 1980,\n        \"max\": 2020,\n        \"num_unique_values\": 41,\n        \"samples\": [\n          2004,\n          1993,\n          1988\n        ],\n        \"semantic_type\": \"\",\n        \"description\": \"\"\n      }\n    },\n    {\n      \"column\": \"released\",\n      \"properties\": {\n        \"dtype\": \"category\",\n        \"num_unique_values\": 3414,\n        \"samples\": [\n          \"December 3, 2004 (Italy)\",\n          \"February 28, 2003 (United States)\",\n          \"October 6, 1982 (United States)\"\n        ],\n        \"semantic_type\": \"\",\n        \"description\": \"\"\n      }\n    },\n    {\n      \"column\": \"score\",\n      \"properties\": {\n        \"dtype\": \"number\",\n        \"std\": 0.9688416402530576,\n        \"min\": 1.9,\n        \"max\": 9.3,\n        \"num_unique_values\": 72,\n        \"samples\": [\n          7.3,\n          9.3,\n          5.0\n        ],\n        \"semantic_type\": \"\",\n        \"description\": \"\"\n      }\n    },\n    {\n      \"column\": \"votes\",\n      \"properties\": {\n        \"dtype\": \"number\",\n        \"std\": 163323.7639095057,\n        \"min\": 7.0,\n        \"max\": 2400000.0,\n        \"num_unique_values\": 936,\n        \"samples\": [\n          128.0,\n          740.0,\n          115.0\n        ],\n        \"semantic_type\": \"\",\n        \"description\": \"\"\n      }\n    },\n    {\n      \"column\": \"director\",\n      \"properties\": {\n        \"dtype\": \"category\",\n        \"num_unique_values\": 2949,\n        \"samples\": [\n          \"Phillip Noyce\",\n          \"Bruce Paltrow\",\n          \"Camille Delamarre\"\n        ],\n        \"semantic_type\": \"\",\n        \"description\": \"\"\n      }\n    },\n    {\n      \"column\": \"writer\",\n      \"properties\": {\n        \"dtype\": \"string\",\n        \"num_unique_values\": 4535,\n        \"samples\": [\n          \"Gene Taft\",\n          \"Mitchell Kriegman\",\n          \"Justin Marks\"\n        ],\n        \"semantic_type\": \"\",\n        \"description\": \"\"\n      }\n    },\n    {\n      \"column\": \"star\",\n      \"properties\": {\n        \"dtype\": \"category\",\n        \"num_unique_values\": 2814,\n        \"samples\": [\n          \"Kurt McKinney\",\n          \"You Ge\",\n          \"Lisa Donaldson\"\n        ],\n        \"semantic_type\": \"\",\n        \"description\": \"\"\n      }\n    },\n    {\n      \"column\": \"country\",\n      \"properties\": {\n        \"dtype\": \"category\",\n        \"num_unique_values\": 59,\n        \"samples\": [\n          \"United Kingdom\",\n          \"Australia\",\n          \"Vietnam\"\n        ],\n        \"semantic_type\": \"\",\n        \"description\": \"\"\n      }\n    },\n    {\n      \"column\": \"budget\",\n      \"properties\": {\n        \"dtype\": \"number\",\n        \"std\": 41457296.60193096,\n        \"min\": 3000.0,\n        \"max\": 356000000.0,\n        \"num_unique_values\": 413,\n        \"samples\": [\n          321000000.0,\n          209000000.0,\n          11400000.0\n        ],\n        \"semantic_type\": \"\",\n        \"description\": \"\"\n      }\n    },\n    {\n      \"column\": \"gross\",\n      \"properties\": {\n        \"dtype\": \"number\",\n        \"std\": 165725124.31875733,\n        \"min\": 309.0,\n        \"max\": 2847246203.0,\n        \"num_unique_values\": 7472,\n        \"samples\": [\n          11098131.0,\n          1839623.0,\n          1482316.0\n        ],\n        \"semantic_type\": \"\",\n        \"description\": \"\"\n      }\n    },\n    {\n      \"column\": \"company\",\n      \"properties\": {\n        \"dtype\": \"category\",\n        \"num_unique_values\": 2385,\n        \"samples\": [\n          \"Casey Silver Productions\",\n          \"Path\\u00e9 Renn Productions\",\n          \"Engine Film\"\n        ],\n        \"semantic_type\": \"\",\n        \"description\": \"\"\n      }\n    },\n    {\n      \"column\": \"runtime\",\n      \"properties\": {\n        \"dtype\": \"number\",\n        \"std\": 18.581247313480592,\n        \"min\": 55.0,\n        \"max\": 366.0,\n        \"num_unique_values\": 138,\n        \"samples\": [\n          144.0,\n          238.0,\n          114.0\n        ],\n        \"semantic_type\": \"\",\n        \"description\": \"\"\n      }\n    }\n  ]\n}"
            }
          },
          "metadata": {},
          "execution_count": 12
        }
      ]
    },
    {
      "source": [
        "#question number 1\n",
        "df['profit'] = df['gross'] - df['budget']"
      ],
      "cell_type": "code",
      "metadata": {
        "id": "g5Jl4b1yaW2d"
      },
      "execution_count": 13,
      "outputs": []
    },
    {
      "cell_type": "code",
      "source": [
        "df.columns"
      ],
      "metadata": {
        "id": "UajlC5Vrab3d",
        "outputId": "92d183b5-e737-4edb-b3df-54542d03c256",
        "colab": {
          "base_uri": "https://localhost:8080/"
        }
      },
      "execution_count": 14,
      "outputs": [
        {
          "output_type": "execute_result",
          "data": {
            "text/plain": [
              "Index(['name', 'rating', 'genre', 'year', 'released', 'score', 'votes',\n",
              "       'director', 'writer', 'star', 'country', 'budget', 'gross', 'company',\n",
              "       'runtime', 'profit'],\n",
              "      dtype='object')"
            ]
          },
          "metadata": {},
          "execution_count": 14
        }
      ]
    },
    {
      "cell_type": "code",
      "source": [
        "df['profit'].max()"
      ],
      "metadata": {
        "id": "r8vXTV7mapoS",
        "outputId": "ff8de589-04fa-4844-e87e-db8f7b33d422",
        "colab": {
          "base_uri": "https://localhost:8080/"
        }
      },
      "execution_count": 15,
      "outputs": [
        {
          "output_type": "execute_result",
          "data": {
            "text/plain": [
              "2610246203.0"
            ]
          },
          "metadata": {},
          "execution_count": 15
        }
      ]
    },
    {
      "cell_type": "code",
      "source": [
        "search_value = df['profit'].max()\n",
        "x = df\n",
        "matching_rows = x[x['profit'] == search_value]\n",
        "\n",
        "row_numbers = matching_rows.index.tolist()\n",
        "print(\"Row numbers with value\", search_value, \":\", row_numbers)"
      ],
      "metadata": {
        "id": "SLWldMqCceE4",
        "outputId": "919bada1-9b47-4a3f-aa99-253e8b3d839d",
        "colab": {
          "base_uri": "https://localhost:8080/"
        }
      },
      "execution_count": 16,
      "outputs": [
        {
          "output_type": "stream",
          "name": "stdout",
          "text": [
            "Row numbers with value 2610246203.0 : [5445]\n"
          ]
        }
      ]
    },
    {
      "cell_type": "code",
      "source": [
        "search_value = df['profit'].max()\n",
        "x = df\n",
        "matching_name = x[x['profit'] == search_value]\n",
        "\n",
        "row_name = matching_name.name.tolist()\n",
        "print(\"Row name with value\", search_value, \":\", row_name)"
      ],
      "metadata": {
        "id": "-xIHGhiJcrD6",
        "outputId": "2bebfc93-9c56-4cc0-94b2-14c7949aa472",
        "colab": {
          "base_uri": "https://localhost:8080/"
        }
      },
      "execution_count": 17,
      "outputs": [
        {
          "output_type": "stream",
          "name": "stdout",
          "text": [
            "Row name with value 2610246203.0 : ['Avatar']\n"
          ]
        }
      ]
    },
    {
      "source": [
        "avatar_row = df[df['name'] == 'Avatar']\n",
        "print(avatar_row)\n",
        "print(avatar_row.index.tolist())"
      ],
      "cell_type": "code",
      "metadata": {
        "id": "Qy58QiyQejec",
        "outputId": "8ee17cc4-aa88-4b30-c83e-4367469bdef3",
        "colab": {
          "base_uri": "https://localhost:8080/"
        }
      },
      "execution_count": 18,
      "outputs": [
        {
          "output_type": "stream",
          "name": "stdout",
          "text": [
            "        name rating   genre  year                           released  score  \\\n",
            "5445  Avatar  PG-13  Action  2009  December 18, 2009 (United States)    7.8   \n",
            "\n",
            "          votes       director         writer             star        country  \\\n",
            "5445  1100000.0  James Cameron  James Cameron  Sam Worthington  United States   \n",
            "\n",
            "           budget         gross                company  runtime        profit  \n",
            "5445  237000000.0  2.847246e+09  Twentieth Century Fox    162.0  2.610246e+09  \n",
            "[5445]\n"
          ]
        }
      ]
    },
    {
      "source": [
        "#question number 2\n",
        "df['roi'] = (df['gross'] - df['budget']) / df['budget']\n",
        "average_roi_by_names = df.groupby('name')['roi'].mean()\n",
        "\n",
        "highest_roi_names = average_roi_by_names.idxmax()\n",
        "highest_roi_value = average_roi_by_names.max()\n",
        "print(highest_roi_names, highest_roi_value)"
      ],
      "cell_type": "code",
      "metadata": {
        "id": "bD3fu56ogwBA",
        "outputId": "c0c2662d-fb48-4f28-9401-1cfcf0de9225",
        "colab": {
          "base_uri": "https://localhost:8080/"
        }
      },
      "execution_count": 19,
      "outputs": [
        {
          "output_type": "stream",
          "name": "stdout",
          "text": [
            "Paranormal Activity 12889.386666666667\n"
          ]
        }
      ]
    },
    {
      "cell_type": "code",
      "source": [
        "df['roi'].max()"
      ],
      "metadata": {
        "id": "cYL9cjM2i6IS",
        "outputId": "39aca109-4a30-41a7-eb97-9a61a57ae31d",
        "colab": {
          "base_uri": "https://localhost:8080/"
        }
      },
      "execution_count": 20,
      "outputs": [
        {
          "output_type": "execute_result",
          "data": {
            "text/plain": [
              "12889.386666666667"
            ]
          },
          "metadata": {},
          "execution_count": 20
        }
      ]
    },
    {
      "cell_type": "code",
      "source": [
        "#question number 3\n",
        "df['genre'].unique()"
      ],
      "metadata": {
        "id": "S6jpxElPjB-U",
        "outputId": "65e681e3-2c3f-4c8f-8173-760255d3423a",
        "colab": {
          "base_uri": "https://localhost:8080/"
        }
      },
      "execution_count": 21,
      "outputs": [
        {
          "output_type": "execute_result",
          "data": {
            "text/plain": [
              "array(['Drama', 'Adventure', 'Action', 'Comedy', 'Horror', 'Biography',\n",
              "       'Crime', 'Fantasy', 'Family', 'Sci-Fi', 'Animation', 'Romance',\n",
              "       'Music', 'Western', 'Thriller', 'History', 'Mystery', 'Sport',\n",
              "       'Musical'], dtype=object)"
            ]
          },
          "metadata": {},
          "execution_count": 21
        }
      ]
    },
    {
      "cell_type": "code",
      "source": [
        "unique_genereslist=df['genre'].unique().tolist()\n",
        "print(unique_genereslist)\n"
      ],
      "metadata": {
        "id": "A63YEJUFjbyt",
        "outputId": "f20773ad-6bb6-4f59-c56d-359d7b37d04e",
        "colab": {
          "base_uri": "https://localhost:8080/"
        }
      },
      "execution_count": 22,
      "outputs": [
        {
          "output_type": "stream",
          "name": "stdout",
          "text": [
            "['Drama', 'Adventure', 'Action', 'Comedy', 'Horror', 'Biography', 'Crime', 'Fantasy', 'Family', 'Sci-Fi', 'Animation', 'Romance', 'Music', 'Western', 'Thriller', 'History', 'Mystery', 'Sport', 'Musical']\n"
          ]
        }
      ]
    },
    {
      "cell_type": "code",
      "source": [
        "print(len(unique_genereslist))\n"
      ],
      "metadata": {
        "id": "3G9_QFhGjwP_",
        "outputId": "eabfc911-fc76-470f-8305-3a96a928831c",
        "colab": {
          "base_uri": "https://localhost:8080/"
        }
      },
      "execution_count": 23,
      "outputs": [
        {
          "output_type": "stream",
          "name": "stdout",
          "text": [
            "19\n"
          ]
        }
      ]
    },
    {
      "cell_type": "code",
      "source": [
        "#graphs for budget and gross\n",
        "import numpy as np\n",
        "import matplotlib.pyplot as plt\n",
        "\n",
        "fig, ax = plt.subplots(figsize=(10, 6))\n",
        "\n",
        "bar_width = 0.50\n",
        "index = np.arange(len(df))\n",
        "\n",
        "ax.bar(index, df['budget'], bar_width, label='budget', color='blue')\n",
        "ax.bar(index + bar_width, df['gross'], bar_width, label='gross', color='green')\n",
        "\n",
        "ax.set_xlabel('name')\n",
        "ax.set_ylabel('Amount ($)')\n",
        "ax.set_title('Comparison of Budget and gross by names')\n",
        "ax.set_xticks(index + bar_width / 2)\n",
        "\n",
        "ax.set_xticklabels(x['name'])\n",
        "ax.legend()\n",
        "\n",
        "plt.show()"
      ],
      "metadata": {
        "id": "afJKNXwTjz9E",
        "outputId": "5cf5de43-ea9f-4452-9c29-3f7517e1d9d4",
        "colab": {
          "base_uri": "https://localhost:8080/",
          "height": 417
        }
      },
      "execution_count": 24,
      "outputs": [
        {
          "output_type": "stream",
          "name": "stderr",
          "text": [
            "/usr/local/lib/python3.10/dist-packages/IPython/core/pylabtools.py:151: UserWarning: Creating legend with loc=\"best\" can be slow with large amounts of data.\n",
            "  fig.canvas.print_figure(bytes_io, **kw)\n"
          ]
        },
        {
          "output_type": "display_data",
          "data": {
            "text/plain": [
              "<Figure size 1000x600 with 1 Axes>"
            ],
            "image/png": "[encoded data removed]"
          },
          "metadata": {}
        }
      ]
    },
    {
      "cell_type": "code",
      "source": [
        "#as names are more so if we want to draw graph only for relevant names\n",
        "selected_movie_names = ['the shining','Airplane!','Avatar','ITS just us']\n",
        "\n",
        "filtered_df = df[df['name'].isin(selected_movie_names)]\n"
      ],
      "metadata": {
        "id": "l2nxTJkHl55c"
      },
      "execution_count": 25,
      "outputs": []
    },
    {
      "cell_type": "code",
      "source": [
        "import seaborn as sns\n",
        "import numpy as np\n",
        "import matplotlib.pyplot as plt\n",
        "\n",
        "#as names are more so if we want to draw graph only for relevant names\n",
        "selected_movie_names = ['Airplane!','Avatar']\n",
        "\n",
        "filtered_df = df[df['name'].isin(selected_movie_names)]\n",
        "\n",
        "plt.figure(figsize=(10, 6))\n",
        "bar_width = 0.35\n",
        "index = np.arange(len(filtered_df)) # Index based on filtered data\n",
        "plt.bar(index, filtered_df['budget'], bar_width, label='budget', color='blue')\n",
        "plt.bar(index + bar_width, filtered_df['gross'], bar_width, label='gross', color='green')\n",
        "\n",
        "plt.title('budget vs gross for Selected Movie names')\n",
        "plt.xlabel('movie name')\n",
        "plt.ylabel('Amount ($)')\n",
        "plt.xticks(index + bar_width / 2, filtered_df['name'])\n",
        "plt.legend()\n",
        "\n",
        "plt.show()"
      ],
      "metadata": {
        "id": "lk8D0ZVlmsrX",
        "outputId": "1ed03afc-9d15-4a41-9e41-7c1734a3eeb4",
        "colab": {
          "base_uri": "https://localhost:8080/",
          "height": 450
        }
      },
      "execution_count": 26,
      "outputs": [
        {
          "output_type": "display_data",
          "data": {
            "text/plain": [
              "<Figure size 1000x600 with 1 Axes>"
            ],
            "image/png": "[encoded data removed]"
          },
          "metadata": {}
        }
      ]
    },
    {
      "cell_type": "code",
      "source": [
        "import pandas as pd\n",
        "import numpy as np\n",
        "df=pd.read_csv('movies.csv')"
      ],
      "metadata": {
        "id": "AL-0fY7PIs9S"
      },
      "execution_count": 27,
      "outputs": []
    },
    {
      "cell_type": "code",
      "source": [
        "#question number 4\n",
        "df['roi'] = (df['gross'] - df['budget']) / df['budget']"
      ],
      "metadata": {
        "id": "jdSVbMvFJPa2"
      },
      "execution_count": 28,
      "outputs": []
    },
    {
      "cell_type": "code",
      "source": [
        "director_avg_roi= df.groupby(\"director\")['roi'].mean()\n",
        "director = director_avg_roi.idxmax()\n",
        "print(f\"Director with maximum average roi:{director, director_avg_roi.max()}\")"
      ],
      "metadata": {
        "colab": {
          "base_uri": "https://localhost:8080/"
        },
        "id": "D3MrkbbgJaG4",
        "outputId": "baac08ee-c91a-47c7-b358-498ab9a3e4af"
      },
      "execution_count": 29,
      "outputs": [
        {
          "output_type": "stream",
          "name": "stdout",
          "text": [
            "Director with maximum average roi:('Oren Peli', 12889.386666666667)\n"
          ]
        }
      ]
    },
    {
      "cell_type": "code",
      "source": [
        "df.columns"
      ],
      "metadata": {
        "colab": {
          "base_uri": "https://localhost:8080/"
        },
        "id": "HzqRJNDQJcDr",
        "outputId": "aefea5bc-ffa5-4f5d-8daa-439243e7ff05"
      },
      "execution_count": 30,
      "outputs": [
        {
          "output_type": "execute_result",
          "data": {
            "text/plain": [
              "Index(['name', 'rating', 'genre', 'year', 'released', 'score', 'votes',\n",
              "       'director', 'writer', 'star', 'country', 'budget', 'gross', 'company',\n",
              "       'runtime', 'roi'],\n",
              "      dtype='object')"
            ]
          },
          "metadata": {},
          "execution_count": 30
        }
      ]
    },
    {
      "cell_type": "code",
      "source": [
        "#question number 5\n",
        "no_of_movies = df.groupby(\"star\")['name'].count()\n",
        "print(f\"actor with maximum movies:{no_of_movies.idxmax(),no_of_movies.max()}\")"
      ],
      "metadata": {
        "colab": {
          "base_uri": "https://localhost:8080/"
        },
        "id": "IZfxm2PxJoLN",
        "outputId": "072fdad0-5c12-44c5-cc21-692e57b02d00"
      },
      "execution_count": 31,
      "outputs": [
        {
          "output_type": "stream",
          "name": "stdout",
          "text": [
            "actor with maximum movies:('Nicolas Cage', 43)\n"
          ]
        }
      ]
    },
    {
      "cell_type": "code",
      "source": [
        "row1=df[df['star']=='Nicolas Cage']\n",
        "print(f\"genre : {row1['genre'].unique()}\")\n"
      ],
      "metadata": {
        "colab": {
          "base_uri": "https://localhost:8080/"
        },
        "id": "1Hgq9_VkJu1f",
        "outputId": "6d08159e-e3ef-4e65-9b86-daad43ca690c"
      },
      "execution_count": 32,
      "outputs": [
        {
          "output_type": "stream",
          "name": "stdout",
          "text": [
            "genre : ['Comedy' 'Biography' 'Action' 'Crime' 'Adventure' 'Drama' 'Horror'\n",
            " 'Animation']\n"
          ]
        }
      ]
    },
    {
      "source": [
        "df['roi'] = (df['gross'] - df['budget']) / df['budget']\n",
        "director_avg_roi= df.groupby(\"director\")['roi'].mean()\n",
        "director = director_avg_roi.idxmax()\n",
        "print(f\"Director with maximum average roi:{director, director_avg_roi.max()}\")\n",
        "no_of_movies = df.groupby(\"star\")['name'].count()\n",
        "print(f\"actor with maximum movies:{no_of_movies.idxmax(),no_of_movies.max()}\")\n",
        "row1=df[df['star']=='Nicolas Cage']\n",
        "row1['profit'] = row1['gross'] - row1['budget']  # Recalculate 'profit' for row1\n",
        "\n",
        "print(f\"genre : {row1['genre'].unique()}\")\n",
        "print(f\"profit : {row1['profit']}\")"
      ],
      "cell_type": "code",
      "metadata": {
        "colab": {
          "base_uri": "https://localhost:8080/"
        },
        "id": "eEODe_jiKpOg",
        "outputId": "518e2a0e-5087-4f5b-aab4-482b54f502a5"
      },
      "execution_count": 35,
      "outputs": [
        {
          "output_type": "stream",
          "name": "stdout",
          "text": [
            "Director with maximum average roi:('Oren Peli', 12889.386666666667)\n",
            "actor with maximum movies:('Nicolas Cage', 43)\n",
            "genre : ['Comedy' 'Biography' 'Action' 'Crime' 'Adventure' 'Drama' 'Horror'\n",
            " 'Animation']\n",
            "profit : 351      16993596.0\n",
            "1001            NaN\n",
            "1052     23180280.0\n",
            "1308     -1274869.0\n",
            "1661      5061425.0\n",
            "1763     -7239549.0\n",
            "2358     -5497449.0\n",
            "2429            NaN\n",
            "2498     17939757.0\n",
            "2583            NaN\n",
            "2660     28429928.0\n",
            "3052    149012234.0\n",
            "3277     30891409.0\n",
            "3311    143685114.0\n",
            "3491     56618699.0\n",
            "3505    -38202809.0\n",
            "3676    147202299.0\n",
            "3701     64745083.0\n",
            "3973      5112895.0\n",
            "4070     13801173.0\n",
            "4140    -37371735.0\n",
            "4316      3565672.0\n",
            "4490    247512318.0\n",
            "4699     22617068.0\n",
            "4813     -2873602.0\n",
            "4924     98247198.0\n",
            "4951     -1194620.0\n",
            "5072    118738393.0\n",
            "5084      7621983.0\n",
            "5121    329242249.0\n",
            "5373     -2512610.0\n",
            "5485    133658498.0\n",
            "5579    -14393578.0\n",
            "5737     65283742.0\n",
            "5929     -9090091.0\n",
            "5939     75563930.0\n",
            "5983     51627228.0\n",
            "6011    -24882034.0\n",
            "6202    -17584582.0\n",
            "6283    452205319.0\n",
            "6372     -1568557.0\n",
            "6593     11405896.0\n",
            "7277     -4444797.0\n",
            "Name: profit, dtype: float64\n"
          ]
        },
        {
          "output_type": "stream",
          "name": "stderr",
          "text": [
            "<ipython-input-35-d89f7416903c>:8: SettingWithCopyWarning: \n",
            "A value is trying to be set on a copy of a slice from a DataFrame.\n",
            "Try using .loc[row_indexer,col_indexer] = value instead\n",
            "\n",
            "See the caveats in the documentation: https://pandas.pydata.org/pandas-docs/stable/user_guide/indexing.html#returning-a-view-versus-a-copy\n",
            "  row1['profit'] = row1['gross'] - row1['budget']  # Recalculate 'profit' for row1\n"
          ]
        }
      ]
    }
  ],
  "metadata": {
    "colab": {
      "provenance": []
    },
    "kernelspec": {
      "display_name": "Python 3",
      "name": "python3"
    }
  },
  "nbformat": 4,
  "nbformat_minor": 0
}